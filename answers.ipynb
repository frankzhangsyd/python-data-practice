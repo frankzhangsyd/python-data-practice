{
 "cells": [
  {
   "cell_type": "markdown",
   "metadata": {},
   "source": [
    "## import packages and set options"
   ]
  },
  {
   "cell_type": "code",
   "execution_count": 1,
   "metadata": {},
   "outputs": [],
   "source": [
    "# import necessary packages\n",
    "import numpy as np\n",
    "import matplotlib.pyplot as plt\n",
    "import pandas as pd\n",
    "import seaborn as sns\n",
    "import statsmodels as sm"
   ]
  },
  {
   "cell_type": "code",
   "execution_count": 2,
   "metadata": {},
   "outputs": [],
   "source": [
    "# set display options\n",
    "pd.set_option('display.max_columns', None)\n",
    "pd.options.display.float_format = '{:.2f}'.format\n",
    "pd.set_option(\"display.max_rows\", 150)\n"
   ]
  },
  {
   "cell_type": "markdown",
   "metadata": {},
   "source": [
    "## data input and cleansing"
   ]
  },
  {
   "cell_type": "code",
   "execution_count": 5,
   "metadata": {},
   "outputs": [
    {
     "data": {
      "text/html": [
       "<div>\n",
       "<style scoped>\n",
       "    .dataframe tbody tr th:only-of-type {\n",
       "        vertical-align: middle;\n",
       "    }\n",
       "\n",
       "    .dataframe tbody tr th {\n",
       "        vertical-align: top;\n",
       "    }\n",
       "\n",
       "    .dataframe thead th {\n",
       "        text-align: right;\n",
       "    }\n",
       "</style>\n",
       "<table border=\"1\" class=\"dataframe\">\n",
       "  <thead>\n",
       "    <tr style=\"text-align: right;\">\n",
       "      <th></th>\n",
       "      <th>symbol</th>\n",
       "      <th>date</th>\n",
       "      <th>pre_close</th>\n",
       "      <th>open</th>\n",
       "      <th>high</th>\n",
       "      <th>low</th>\n",
       "      <th>close</th>\n",
       "      <th>volume</th>\n",
       "      <th>amount</th>\n",
       "      <th>adj_factor</th>\n",
       "      <th>capt</th>\n",
       "      <th>index_w50</th>\n",
       "      <th>index_w300</th>\n",
       "      <th>index_w500</th>\n",
       "      <th>industry</th>\n",
       "    </tr>\n",
       "  </thead>\n",
       "  <tbody>\n",
       "    <tr>\n",
       "      <th>0</th>\n",
       "      <td>600000.SH</td>\n",
       "      <td>20120104</td>\n",
       "      <td>8.49</td>\n",
       "      <td>8.54</td>\n",
       "      <td>8.56</td>\n",
       "      <td>8.39</td>\n",
       "      <td>8.41</td>\n",
       "      <td>34201379</td>\n",
       "      <td>290229551.00</td>\n",
       "      <td>6.66</td>\n",
       "      <td>125500555680.00</td>\n",
       "      <td>0.05</td>\n",
       "      <td>0.02</td>\n",
       "      <td>0.00</td>\n",
       "      <td>BANKS</td>\n",
       "    </tr>\n",
       "    <tr>\n",
       "      <th>1</th>\n",
       "      <td>600000.SH</td>\n",
       "      <td>20120105</td>\n",
       "      <td>8.41</td>\n",
       "      <td>8.47</td>\n",
       "      <td>8.82</td>\n",
       "      <td>8.47</td>\n",
       "      <td>8.65</td>\n",
       "      <td>132116203</td>\n",
       "      <td>1144753023.00</td>\n",
       "      <td>6.66</td>\n",
       "      <td>129082022192.00</td>\n",
       "      <td>0.05</td>\n",
       "      <td>0.02</td>\n",
       "      <td>0.00</td>\n",
       "      <td>BANKS</td>\n",
       "    </tr>\n",
       "    <tr>\n",
       "      <th>2</th>\n",
       "      <td>600000.SH</td>\n",
       "      <td>20120106</td>\n",
       "      <td>8.65</td>\n",
       "      <td>8.63</td>\n",
       "      <td>8.78</td>\n",
       "      <td>8.62</td>\n",
       "      <td>8.71</td>\n",
       "      <td>61778687</td>\n",
       "      <td>537043761.00</td>\n",
       "      <td>6.66</td>\n",
       "      <td>129977388820.00</td>\n",
       "      <td>0.05</td>\n",
       "      <td>0.02</td>\n",
       "      <td>0.00</td>\n",
       "      <td>BANKS</td>\n",
       "    </tr>\n",
       "    <tr>\n",
       "      <th>3</th>\n",
       "      <td>600000.SH</td>\n",
       "      <td>20120109</td>\n",
       "      <td>8.71</td>\n",
       "      <td>8.72</td>\n",
       "      <td>8.99</td>\n",
       "      <td>8.68</td>\n",
       "      <td>8.95</td>\n",
       "      <td>80136249</td>\n",
       "      <td>711429611.00</td>\n",
       "      <td>6.66</td>\n",
       "      <td>133558855331.00</td>\n",
       "      <td>0.05</td>\n",
       "      <td>0.02</td>\n",
       "      <td>0.00</td>\n",
       "      <td>BANKS</td>\n",
       "    </tr>\n",
       "    <tr>\n",
       "      <th>4</th>\n",
       "      <td>600000.SH</td>\n",
       "      <td>20120110</td>\n",
       "      <td>8.95</td>\n",
       "      <td>8.95</td>\n",
       "      <td>9.10</td>\n",
       "      <td>8.88</td>\n",
       "      <td>9.07</td>\n",
       "      <td>72004632</td>\n",
       "      <td>647206633.00</td>\n",
       "      <td>6.66</td>\n",
       "      <td>135349588587.00</td>\n",
       "      <td>0.05</td>\n",
       "      <td>0.02</td>\n",
       "      <td>0.00</td>\n",
       "      <td>BANKS</td>\n",
       "    </tr>\n",
       "  </tbody>\n",
       "</table>\n",
       "</div>"
      ],
      "text/plain": [
       "      symbol      date  pre_close  open  high  low  close     volume  \\\n",
       "0  600000.SH  20120104       8.49  8.54  8.56 8.39   8.41   34201379   \n",
       "1  600000.SH  20120105       8.41  8.47  8.82 8.47   8.65  132116203   \n",
       "2  600000.SH  20120106       8.65  8.63  8.78 8.62   8.71   61778687   \n",
       "3  600000.SH  20120109       8.71  8.72  8.99 8.68   8.95   80136249   \n",
       "4  600000.SH  20120110       8.95  8.95  9.10 8.88   9.07   72004632   \n",
       "\n",
       "         amount  adj_factor            capt  index_w50  index_w300  \\\n",
       "0  290229551.00        6.66 125500555680.00       0.05        0.02   \n",
       "1 1144753023.00        6.66 129082022192.00       0.05        0.02   \n",
       "2  537043761.00        6.66 129977388820.00       0.05        0.02   \n",
       "3  711429611.00        6.66 133558855331.00       0.05        0.02   \n",
       "4  647206633.00        6.66 135349588587.00       0.05        0.02   \n",
       "\n",
       "   index_w500 industry  \n",
       "0        0.00    BANKS  \n",
       "1        0.00    BANKS  \n",
       "2        0.00    BANKS  \n",
       "3        0.00    BANKS  \n",
       "4        0.00    BANKS  "
      ]
     },
     "execution_count": 5,
     "metadata": {},
     "output_type": "execute_result"
    }
   ],
   "source": [
    "df = pd.read_csv('./stock-market-data.csv')\n",
    "df[['symbol', 'industry']] = df[['symbol', 'industry']].apply(\n",
    "    lambda x: x.astype(\"string\"))\n",
    "df.head()"
   ]
  },
  {
   "cell_type": "markdown",
   "metadata": {},
   "source": [
    "1. 哪些股票的代码中包含\"8\"这个数字？"
   ]
  },
  {
   "cell_type": "code",
   "execution_count": 7,
   "metadata": {},
   "outputs": [
    {
     "data": {
      "text/plain": [
       "['300280.SZ', '600588.SH', '000861.SZ', '300238.SZ', '600782.SH', '600785.SH']"
      ]
     },
     "execution_count": 7,
     "metadata": {},
     "output_type": "execute_result"
    }
   ],
   "source": [
    "# use list comprehension\n",
    "[ s for s in set(df['symbol']) if s.find('8')>=0][:6]\n"
   ]
  },
  {
   "cell_type": "markdown",
   "metadata": {},
   "source": [
    "2. 每天上涨和下跌的股票各有多少？"
   ]
  },
  {
   "cell_type": "code",
   "execution_count": 13,
   "metadata": {},
   "outputs": [
    {
     "data": {
      "text/html": [
       "<div>\n",
       "<style scoped>\n",
       "    .dataframe tbody tr th:only-of-type {\n",
       "        vertical-align: middle;\n",
       "    }\n",
       "\n",
       "    .dataframe tbody tr th {\n",
       "        vertical-align: top;\n",
       "    }\n",
       "\n",
       "    .dataframe thead th {\n",
       "        text-align: right;\n",
       "    }\n",
       "</style>\n",
       "<table border=\"1\" class=\"dataframe\">\n",
       "  <thead>\n",
       "    <tr style=\"text-align: right;\">\n",
       "      <th></th>\n",
       "      <th>date</th>\n",
       "      <th>updown</th>\n",
       "      <th>num</th>\n",
       "    </tr>\n",
       "  </thead>\n",
       "  <tbody>\n",
       "    <tr>\n",
       "      <th>0</th>\n",
       "      <td>20120104</td>\n",
       "      <td>DOWN</td>\n",
       "      <td>2007</td>\n",
       "    </tr>\n",
       "    <tr>\n",
       "      <th>1</th>\n",
       "      <td>20120104</td>\n",
       "      <td>STEADY</td>\n",
       "      <td>122</td>\n",
       "    </tr>\n",
       "    <tr>\n",
       "      <th>2</th>\n",
       "      <td>20120104</td>\n",
       "      <td>UP</td>\n",
       "      <td>191</td>\n",
       "    </tr>\n",
       "    <tr>\n",
       "      <th>3</th>\n",
       "      <td>20120105</td>\n",
       "      <td>DOWN</td>\n",
       "      <td>2071</td>\n",
       "    </tr>\n",
       "    <tr>\n",
       "      <th>4</th>\n",
       "      <td>20120105</td>\n",
       "      <td>STEADY</td>\n",
       "      <td>117</td>\n",
       "    </tr>\n",
       "  </tbody>\n",
       "</table>\n",
       "</div>"
      ],
      "text/plain": [
       "       date  updown   num\n",
       "0  20120104    DOWN  2007\n",
       "1  20120104  STEADY   122\n",
       "2  20120104      UP   191\n",
       "3  20120105    DOWN  2071\n",
       "4  20120105  STEADY   117"
      ]
     },
     "execution_count": 13,
     "metadata": {},
     "output_type": "execute_result"
    }
   ],
   "source": [
    "# use np.select\n",
    "conditions = [\n",
    "    df['close'] > df['pre_close'],\n",
    "    df['close'] < df['pre_close']]\n",
    "\n",
    "results = ['UP', 'DOWN']\n",
    "\n",
    "df['updown'] = np.select(conditions, results, default='STEADY')\n",
    "df.groupby(['date', 'updown']).agg(num = ('symbol','nunique')).reset_index().head()\n"
   ]
  },
  {
   "cell_type": "markdown",
   "metadata": {},
   "source": [
    "3. 每天每个交易所上涨、下跌的股票各有多少？"
   ]
  },
  {
   "cell_type": "code",
   "execution_count": 15,
   "metadata": {},
   "outputs": [
    {
     "data": {
      "text/html": [
       "<div>\n",
       "<style scoped>\n",
       "    .dataframe tbody tr th:only-of-type {\n",
       "        vertical-align: middle;\n",
       "    }\n",
       "\n",
       "    .dataframe tbody tr th {\n",
       "        vertical-align: top;\n",
       "    }\n",
       "\n",
       "    .dataframe thead th {\n",
       "        text-align: right;\n",
       "    }\n",
       "</style>\n",
       "<table border=\"1\" class=\"dataframe\">\n",
       "  <thead>\n",
       "    <tr style=\"text-align: right;\">\n",
       "      <th></th>\n",
       "      <th>date</th>\n",
       "      <th>exchange</th>\n",
       "      <th>updown</th>\n",
       "      <th>num</th>\n",
       "    </tr>\n",
       "  </thead>\n",
       "  <tbody>\n",
       "    <tr>\n",
       "      <th>0</th>\n",
       "      <td>20120104</td>\n",
       "      <td>SH</td>\n",
       "      <td>DOWN</td>\n",
       "      <td>794</td>\n",
       "    </tr>\n",
       "    <tr>\n",
       "      <th>1</th>\n",
       "      <td>20120104</td>\n",
       "      <td>SH</td>\n",
       "      <td>STEADY</td>\n",
       "      <td>42</td>\n",
       "    </tr>\n",
       "    <tr>\n",
       "      <th>2</th>\n",
       "      <td>20120104</td>\n",
       "      <td>SH</td>\n",
       "      <td>UP</td>\n",
       "      <td>85</td>\n",
       "    </tr>\n",
       "    <tr>\n",
       "      <th>3</th>\n",
       "      <td>20120104</td>\n",
       "      <td>SZ</td>\n",
       "      <td>DOWN</td>\n",
       "      <td>1213</td>\n",
       "    </tr>\n",
       "    <tr>\n",
       "      <th>4</th>\n",
       "      <td>20120104</td>\n",
       "      <td>SZ</td>\n",
       "      <td>STEADY</td>\n",
       "      <td>80</td>\n",
       "    </tr>\n",
       "  </tbody>\n",
       "</table>\n",
       "</div>"
      ],
      "text/plain": [
       "       date exchange  updown   num\n",
       "0  20120104       SH    DOWN   794\n",
       "1  20120104       SH  STEADY    42\n",
       "2  20120104       SH      UP    85\n",
       "3  20120104       SZ    DOWN  1213\n",
       "4  20120104       SZ  STEADY    80"
      ]
     },
     "execution_count": 15,
     "metadata": {},
     "output_type": "execute_result"
    }
   ],
   "source": [
    "# based on question 2\n",
    "\n",
    "df['exchange'] = df['symbol'].str[-2:]\n",
    "df.groupby(['date', 'exchange','updown']).agg(num = ('symbol','nunique')).reset_index().head()\n"
   ]
  },
  {
   "cell_type": "markdown",
   "metadata": {},
   "source": [
    "4. 沪深300成分股中，每天上涨、下跌的股票各有多少？"
   ]
  },
  {
   "cell_type": "code",
   "execution_count": 16,
   "metadata": {},
   "outputs": [
    {
     "data": {
      "text/html": [
       "<div>\n",
       "<style scoped>\n",
       "    .dataframe tbody tr th:only-of-type {\n",
       "        vertical-align: middle;\n",
       "    }\n",
       "\n",
       "    .dataframe tbody tr th {\n",
       "        vertical-align: top;\n",
       "    }\n",
       "\n",
       "    .dataframe thead th {\n",
       "        text-align: right;\n",
       "    }\n",
       "</style>\n",
       "<table border=\"1\" class=\"dataframe\">\n",
       "  <thead>\n",
       "    <tr style=\"text-align: right;\">\n",
       "      <th></th>\n",
       "      <th>date</th>\n",
       "      <th>Flag</th>\n",
       "      <th>num</th>\n",
       "    </tr>\n",
       "  </thead>\n",
       "  <tbody>\n",
       "    <tr>\n",
       "      <th>0</th>\n",
       "      <td>20120104</td>\n",
       "      <td>DOWN</td>\n",
       "      <td>275</td>\n",
       "    </tr>\n",
       "    <tr>\n",
       "      <th>1</th>\n",
       "      <td>20120104</td>\n",
       "      <td>STEADY</td>\n",
       "      <td>5</td>\n",
       "    </tr>\n",
       "    <tr>\n",
       "      <th>2</th>\n",
       "      <td>20120104</td>\n",
       "      <td>UP</td>\n",
       "      <td>20</td>\n",
       "    </tr>\n",
       "    <tr>\n",
       "      <th>3</th>\n",
       "      <td>20120105</td>\n",
       "      <td>DOWN</td>\n",
       "      <td>242</td>\n",
       "    </tr>\n",
       "    <tr>\n",
       "      <th>4</th>\n",
       "      <td>20120105</td>\n",
       "      <td>STEADY</td>\n",
       "      <td>8</td>\n",
       "    </tr>\n",
       "  </tbody>\n",
       "</table>\n",
       "</div>"
      ],
      "text/plain": [
       "       date    Flag  num\n",
       "0  20120104    DOWN  275\n",
       "1  20120104  STEADY    5\n",
       "2  20120104      UP   20\n",
       "3  20120105    DOWN  242\n",
       "4  20120105  STEADY    8"
      ]
     },
     "execution_count": 16,
     "metadata": {},
     "output_type": "execute_result"
    }
   ],
   "source": [
    "# based on question 2\n",
    "df.query(\"index_w300 > 0\").groupby(['date', 'Flag']).agg(num = ('symbol','nunique')).reset_index().head()"
   ]
  },
  {
   "cell_type": "markdown",
   "metadata": {},
   "source": [
    "5. 每天每个行业各有多少只股票？"
   ]
  },
  {
   "cell_type": "code",
   "execution_count": 17,
   "metadata": {},
   "outputs": [
    {
     "data": {
      "text/html": [
       "<div>\n",
       "<style scoped>\n",
       "    .dataframe tbody tr th:only-of-type {\n",
       "        vertical-align: middle;\n",
       "    }\n",
       "\n",
       "    .dataframe tbody tr th {\n",
       "        vertical-align: top;\n",
       "    }\n",
       "\n",
       "    .dataframe thead th {\n",
       "        text-align: right;\n",
       "    }\n",
       "</style>\n",
       "<table border=\"1\" class=\"dataframe\">\n",
       "  <thead>\n",
       "    <tr style=\"text-align: right;\">\n",
       "      <th></th>\n",
       "      <th>date</th>\n",
       "      <th>industry</th>\n",
       "      <th>num</th>\n",
       "    </tr>\n",
       "  </thead>\n",
       "  <tbody>\n",
       "    <tr>\n",
       "      <th>0</th>\n",
       "      <td>20120104</td>\n",
       "      <td>AERODEF</td>\n",
       "      <td>10</td>\n",
       "    </tr>\n",
       "    <tr>\n",
       "      <th>1</th>\n",
       "      <td>20120104</td>\n",
       "      <td>AIRLINE</td>\n",
       "      <td>12</td>\n",
       "    </tr>\n",
       "    <tr>\n",
       "      <th>2</th>\n",
       "      <td>20120104</td>\n",
       "      <td>AUTO</td>\n",
       "      <td>85</td>\n",
       "    </tr>\n",
       "    <tr>\n",
       "      <th>3</th>\n",
       "      <td>20120104</td>\n",
       "      <td>BANKS</td>\n",
       "      <td>16</td>\n",
       "    </tr>\n",
       "    <tr>\n",
       "      <th>4</th>\n",
       "      <td>20120104</td>\n",
       "      <td>BEV</td>\n",
       "      <td>30</td>\n",
       "    </tr>\n",
       "  </tbody>\n",
       "</table>\n",
       "</div>"
      ],
      "text/plain": [
       "       date industry  num\n",
       "0  20120104  AERODEF   10\n",
       "1  20120104  AIRLINE   12\n",
       "2  20120104     AUTO   85\n",
       "3  20120104    BANKS   16\n",
       "4  20120104      BEV   30"
      ]
     },
     "execution_count": 17,
     "metadata": {},
     "output_type": "execute_result"
    }
   ],
   "source": [
    "# based on question 2\n",
    "df.groupby(['date', 'industry']).agg(num = ('symbol','nunique')).reset_index().head()\n"
   ]
  },
  {
   "cell_type": "markdown",
   "metadata": {},
   "source": [
    "6. 股票数最大的行业和总成交额最大的行业是否总是同一个行业？"
   ]
  },
  {
   "cell_type": "code",
   "execution_count": 18,
   "metadata": {},
   "outputs": [
    {
     "data": {
      "text/html": [
       "<div>\n",
       "<style scoped>\n",
       "    .dataframe tbody tr th:only-of-type {\n",
       "        vertical-align: middle;\n",
       "    }\n",
       "\n",
       "    .dataframe tbody tr th {\n",
       "        vertical-align: top;\n",
       "    }\n",
       "\n",
       "    .dataframe thead th {\n",
       "        text-align: right;\n",
       "    }\n",
       "</style>\n",
       "<table border=\"1\" class=\"dataframe\">\n",
       "  <thead>\n",
       "    <tr style=\"text-align: right;\">\n",
       "      <th></th>\n",
       "      <th>date</th>\n",
       "      <th>industry</th>\n",
       "      <th>symbol</th>\n",
       "      <th>amount</th>\n",
       "    </tr>\n",
       "  </thead>\n",
       "  <tbody>\n",
       "    <tr>\n",
       "      <th>0</th>\n",
       "      <td>20120104</td>\n",
       "      <td>AERODEF</td>\n",
       "      <td>10</td>\n",
       "      <td>493331236.30</td>\n",
       "    </tr>\n",
       "    <tr>\n",
       "      <th>1</th>\n",
       "      <td>20120104</td>\n",
       "      <td>AIRLINE</td>\n",
       "      <td>12</td>\n",
       "      <td>359576492.30</td>\n",
       "    </tr>\n",
       "    <tr>\n",
       "      <th>2</th>\n",
       "      <td>20120104</td>\n",
       "      <td>AUTO</td>\n",
       "      <td>85</td>\n",
       "      <td>2299263904.60</td>\n",
       "    </tr>\n",
       "    <tr>\n",
       "      <th>3</th>\n",
       "      <td>20120104</td>\n",
       "      <td>BANKS</td>\n",
       "      <td>16</td>\n",
       "      <td>3612012715.00</td>\n",
       "    </tr>\n",
       "    <tr>\n",
       "      <th>4</th>\n",
       "      <td>20120104</td>\n",
       "      <td>BEV</td>\n",
       "      <td>30</td>\n",
       "      <td>2946962799.60</td>\n",
       "    </tr>\n",
       "  </tbody>\n",
       "</table>\n",
       "</div>"
      ],
      "text/plain": [
       "       date industry  symbol        amount\n",
       "0  20120104  AERODEF      10  493331236.30\n",
       "1  20120104  AIRLINE      12  359576492.30\n",
       "2  20120104     AUTO      85 2299263904.60\n",
       "3  20120104    BANKS      16 3612012715.00\n",
       "4  20120104      BEV      30 2946962799.60"
      ]
     },
     "execution_count": 18,
     "metadata": {},
     "output_type": "execute_result"
    }
   ],
   "source": [
    "# get # of stocks and $ of amount by industry\n",
    "df1 = df.groupby(['date', 'industry']).agg({'symbol': 'nunique', 'amount': 'sum'}).reset_index()\n",
    "df1.head()\n"
   ]
  }
 ],
 "metadata": {
  "interpreter": {
   "hash": "d8dbba0a5eab6c4a0e28ce80230c5a4fe64aef4f039f81948b36b4d9f8d6bdb0"
  },
  "kernelspec": {
   "display_name": "Python 3.7.4 ('base')",
   "language": "python",
   "name": "python3"
  },
  "language_info": {
   "codemirror_mode": {
    "name": "ipython",
    "version": 3
   },
   "file_extension": ".py",
   "mimetype": "text/x-python",
   "name": "python",
   "nbconvert_exporter": "python",
   "pygments_lexer": "ipython3",
   "version": "3.9.7"
  },
  "orig_nbformat": 4
 },
 "nbformat": 4,
 "nbformat_minor": 2
}
